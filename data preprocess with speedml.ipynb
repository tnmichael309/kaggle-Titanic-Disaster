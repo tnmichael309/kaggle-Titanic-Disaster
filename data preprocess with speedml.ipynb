{
 "cells": [
  {
   "cell_type": "code",
   "execution_count": 1,
   "metadata": {
    "collapsed": true
   },
   "outputs": [],
   "source": [
    "import numpy as np # linear algebra\n",
    "import pandas as pd # data processing, CSV file I/O (e.g. pd.read_csv)"
   ]
  },
  {
   "cell_type": "code",
   "execution_count": 2,
   "metadata": {},
   "outputs": [
    {
     "name": "stderr",
     "output_type": "stream",
     "text": [
      "C:\\Users\\khyeh\\Anaconda3\\lib\\site-packages\\sklearn\\cross_validation.py:41: DeprecationWarning: This module was deprecated in version 0.18 in favor of the model_selection module into which all the refactored classes and functions are moved. Also note that the interface of the new CV iterators are different from that of this module. This module will be removed in 0.20.\n",
      "  \"This module will be removed in 0.20.\", DeprecationWarning)\n"
     ]
    },
    {
     "data": {
      "text/plain": [
       "'train (891, 11) | test (418, 10)'"
      ]
     },
     "execution_count": 2,
     "metadata": {},
     "output_type": "execute_result"
    }
   ],
   "source": [
    "from speedml import Speedml\n",
    "\n",
    "sml = Speedml('data/train.csv', \n",
    "              'data/test.csv', \n",
    "              target = 'Survived',\n",
    "              uid = 'PassengerId')\n",
    "sml.shape()"
   ]
  },
  {
   "cell_type": "code",
   "execution_count": 3,
   "metadata": {},
   "outputs": [
    {
     "data": {
      "text/html": [
       "<div>\n",
       "<style>\n",
       "    .dataframe thead tr:only-child th {\n",
       "        text-align: right;\n",
       "    }\n",
       "\n",
       "    .dataframe thead th {\n",
       "        text-align: left;\n",
       "    }\n",
       "\n",
       "    .dataframe tbody tr th {\n",
       "        vertical-align: top;\n",
       "    }\n",
       "</style>\n",
       "<table border=\"1\" class=\"dataframe\">\n",
       "  <thead>\n",
       "    <tr style=\"text-align: right;\">\n",
       "      <th></th>\n",
       "      <th>Results</th>\n",
       "      <th>Observations</th>\n",
       "    </tr>\n",
       "  </thead>\n",
       "  <tbody>\n",
       "    <tr>\n",
       "      <th>Speedml Release</th>\n",
       "      <td>v0.9.3</td>\n",
       "      <td>Visit https://speedml.com for release notes.</td>\n",
       "    </tr>\n",
       "    <tr>\n",
       "      <th>Nulls</th>\n",
       "      <td>1014</td>\n",
       "      <td>Use feature.impute.</td>\n",
       "    </tr>\n",
       "    <tr>\n",
       "      <th>Outliers Upper</th>\n",
       "      <td>[SibSp, Fare]</td>\n",
       "      <td>Positive skew (&gt; 3). Use feature.outliers(upper).</td>\n",
       "    </tr>\n",
       "    <tr>\n",
       "      <th>Shape</th>\n",
       "      <td>train (891, 11) | test (418, 10)</td>\n",
       "      <td></td>\n",
       "    </tr>\n",
       "    <tr>\n",
       "      <th>Numerical Ratio</th>\n",
       "      <td>54%</td>\n",
       "      <td>Aim for 100% numerical.</td>\n",
       "    </tr>\n",
       "    <tr>\n",
       "      <th>Numerical High-cardinality</th>\n",
       "      <td>[Age, Fare]</td>\n",
       "      <td>(&gt;10) categories. Use feature.density</td>\n",
       "    </tr>\n",
       "    <tr>\n",
       "      <th>Numerical Categorical</th>\n",
       "      <td>[Survived, Pclass, SibSp, Parch]</td>\n",
       "      <td>Use plot.ordinal.</td>\n",
       "    </tr>\n",
       "    <tr>\n",
       "      <th>Text High-cardinality</th>\n",
       "      <td>[Ticket, Cabin]</td>\n",
       "      <td>(&gt;10) categories. Use feature.labels.</td>\n",
       "    </tr>\n",
       "    <tr>\n",
       "      <th>Text Categorical</th>\n",
       "      <td>[Sex, Embarked]</td>\n",
       "      <td>Use feature.labels or feature.mapping.</td>\n",
       "    </tr>\n",
       "    <tr>\n",
       "      <th>Text Unique</th>\n",
       "      <td>[Name]</td>\n",
       "      <td>~80% unique. Use feature.extract or feature.drop.</td>\n",
       "    </tr>\n",
       "    <tr>\n",
       "      <th>Target Analysis (Survived)</th>\n",
       "      <td>Model ready.</td>\n",
       "      <td>Use classification models.</td>\n",
       "    </tr>\n",
       "  </tbody>\n",
       "</table>\n",
       "</div>"
      ],
      "text/plain": [
       "                                                     Results  \\\n",
       "Speedml Release                                       v0.9.3   \n",
       "Nulls                                                   1014   \n",
       "Outliers Upper                                 [SibSp, Fare]   \n",
       "Shape                       train (891, 11) | test (418, 10)   \n",
       "Numerical Ratio                                          54%   \n",
       "Numerical High-cardinality                       [Age, Fare]   \n",
       "Numerical Categorical       [Survived, Pclass, SibSp, Parch]   \n",
       "Text High-cardinality                        [Ticket, Cabin]   \n",
       "Text Categorical                             [Sex, Embarked]   \n",
       "Text Unique                                           [Name]   \n",
       "Target Analysis (Survived)                      Model ready.   \n",
       "\n",
       "                                                                 Observations  \n",
       "Speedml Release                  Visit https://speedml.com for release notes.  \n",
       "Nulls                                                     Use feature.impute.  \n",
       "Outliers Upper              Positive skew (> 3). Use feature.outliers(upper).  \n",
       "Shape                                                                          \n",
       "Numerical Ratio                                       Aim for 100% numerical.  \n",
       "Numerical High-cardinality              (>10) categories. Use feature.density  \n",
       "Numerical Categorical                                       Use plot.ordinal.  \n",
       "Text High-cardinality                   (>10) categories. Use feature.labels.  \n",
       "Text Categorical                       Use feature.labels or feature.mapping.  \n",
       "Text Unique                 ~80% unique. Use feature.extract or feature.drop.  \n",
       "Target Analysis (Survived)                         Use classification models.  "
      ]
     },
     "execution_count": 3,
     "metadata": {},
     "output_type": "execute_result"
    }
   ],
   "source": [
    "sml.eda()"
   ]
  },
  {
   "cell_type": "code",
   "execution_count": 4,
   "metadata": {},
   "outputs": [
    {
     "data": {
      "text/plain": [
       "'Fixed 17 or 1.91% upper outliers. '"
      ]
     },
     "execution_count": 4,
     "metadata": {},
     "output_type": "execute_result"
    },
    {
     "data": {
      "text/plain": [
       "'Fixed 7 or 0.79% upper outliers. '"
      ]
     },
     "execution_count": 4,
     "metadata": {},
     "output_type": "execute_result"
    }
   ],
   "source": [
    "sml.feature.outliers('Fare', upper=98)\n",
    "sml.feature.outliers('SibSp', upper=99)"
   ]
  },
  {
   "cell_type": "code",
   "execution_count": 5,
   "metadata": {},
   "outputs": [
    {
     "data": {
      "text/html": [
       "<div>\n",
       "<style>\n",
       "    .dataframe thead tr:only-child th {\n",
       "        text-align: right;\n",
       "    }\n",
       "\n",
       "    .dataframe thead th {\n",
       "        text-align: left;\n",
       "    }\n",
       "\n",
       "    .dataframe tbody tr th {\n",
       "        vertical-align: top;\n",
       "    }\n",
       "</style>\n",
       "<table border=\"1\" class=\"dataframe\">\n",
       "  <thead>\n",
       "    <tr style=\"text-align: right;\">\n",
       "      <th></th>\n",
       "      <th>Ticket</th>\n",
       "      <th>Ticket_density</th>\n",
       "    </tr>\n",
       "  </thead>\n",
       "  <tbody>\n",
       "    <tr>\n",
       "      <th>0</th>\n",
       "      <td>A/5 21171</td>\n",
       "      <td>1</td>\n",
       "    </tr>\n",
       "    <tr>\n",
       "      <th>1</th>\n",
       "      <td>PC 17599</td>\n",
       "      <td>1</td>\n",
       "    </tr>\n",
       "    <tr>\n",
       "      <th>2</th>\n",
       "      <td>STON/O2. 3101282</td>\n",
       "      <td>1</td>\n",
       "    </tr>\n",
       "    <tr>\n",
       "      <th>3</th>\n",
       "      <td>113803</td>\n",
       "      <td>2</td>\n",
       "    </tr>\n",
       "    <tr>\n",
       "      <th>4</th>\n",
       "      <td>373450</td>\n",
       "      <td>1</td>\n",
       "    </tr>\n",
       "  </tbody>\n",
       "</table>\n",
       "</div>"
      ],
      "text/plain": [
       "             Ticket  Ticket_density\n",
       "0         A/5 21171               1\n",
       "1          PC 17599               1\n",
       "2  STON/O2. 3101282               1\n",
       "3            113803               2\n",
       "4            373450               1"
      ]
     },
     "execution_count": 5,
     "metadata": {},
     "output_type": "execute_result"
    }
   ],
   "source": [
    "sml.feature.density('Age')\n",
    "sml.feature.density('Ticket')\n",
    "sml.train[['Ticket', 'Ticket_density']].head()"
   ]
  },
  {
   "cell_type": "code",
   "execution_count": 6,
   "metadata": {},
   "outputs": [
    {
     "data": {
      "text/plain": [
       "'Dropped 1 features with 12 features available.'"
      ]
     },
     "execution_count": 6,
     "metadata": {},
     "output_type": "execute_result"
    },
    {
     "data": {
      "text/plain": [
       "'Filled 1014 null values across test and train datasets.'"
      ]
     },
     "execution_count": 6,
     "metadata": {},
     "output_type": "execute_result"
    },
    {
     "data": {
      "text/plain": [
       "'Dropped 1 features with 12 features available.'"
      ]
     },
     "execution_count": 6,
     "metadata": {},
     "output_type": "execute_result"
    }
   ],
   "source": [
    "sml.feature.drop(['Ticket'])\n",
    "sml.feature.fillna(a='Cabin', new='Z')\n",
    "sml.feature.extract(new='Deck', a='Cabin', regex='([A-Z]){1}')\n",
    "sml.feature.drop(['Cabin'])\n",
    "sml.feature.mapping('Sex', {'male': 0, 'female': 1})\n",
    "sml.feature.sum(new='FamilySize', a='Parch', b='SibSp')\n",
    "sml.feature.add('FamilySize', 1)"
   ]
  },
  {
   "cell_type": "code",
   "execution_count": 7,
   "metadata": {},
   "outputs": [
    {
     "data": {
      "text/plain": [
       "'Dropped 2 features with 11 features available.'"
      ]
     },
     "execution_count": 7,
     "metadata": {},
     "output_type": "execute_result"
    },
    {
     "data": {
      "text/plain": [
       "'Imputed 179 empty values to 0.'"
      ]
     },
     "execution_count": 7,
     "metadata": {},
     "output_type": "execute_result"
    }
   ],
   "source": [
    "sml.feature.drop(['Parch', 'SibSp'])\n",
    "sml.feature.impute()\n",
    "sml.feature.extract(new='Title', a='Name', regex=' ([A-Za-z]+)\\.')"
   ]
  },
  {
   "cell_type": "code",
   "execution_count": 8,
   "metadata": {},
   "outputs": [
    {
     "data": {
      "text/plain": [
       "'Replaced matching list of strings across train and test datasets.'"
      ]
     },
     "execution_count": 8,
     "metadata": {},
     "output_type": "execute_result"
    },
    {
     "data": {
      "text/plain": [
       "'Replaced 2 matching values across train and test datasets.'"
      ]
     },
     "execution_count": 8,
     "metadata": {},
     "output_type": "execute_result"
    },
    {
     "data": {
      "text/plain": [
       "'Replaced 2 matching values across train and test datasets.'"
      ]
     },
     "execution_count": 8,
     "metadata": {},
     "output_type": "execute_result"
    },
    {
     "data": {
      "text/plain": [
       "'Replaced 1 matching values across train and test datasets.'"
      ]
     },
     "execution_count": 8,
     "metadata": {},
     "output_type": "execute_result"
    },
    {
     "data": {
      "text/plain": [
       "'Dropped 1 features with 11 features available.'"
      ]
     },
     "execution_count": 8,
     "metadata": {},
     "output_type": "execute_result"
    }
   ],
   "source": [
    "sml.feature.replace(a='Title', match=['Lady', 'Countess','Capt', 'Col',\\\n",
    "'Don', 'Dr', 'Major', 'Rev', 'Sir', 'Jonkheer', 'Dona'], new='Rare')\n",
    "sml.feature.replace('Title', 'Mlle', 'Miss')\n",
    "sml.feature.replace('Title', 'Ms', 'Miss')\n",
    "sml.feature.replace('Title', 'Mme', 'Mrs')\n",
    "\n",
    "sml.feature.drop(['Name'])\n",
    "sml.feature.labels(['Title', 'Embarked', 'Deck'])"
   ]
  },
  {
   "cell_type": "code",
   "execution_count": 9,
   "metadata": {},
   "outputs": [
    {
     "data": {
      "text/plain": [
       "'train_X: (891, 10) train_y: (891,) test_X: (418, 10)'"
      ]
     },
     "execution_count": 9,
     "metadata": {},
     "output_type": "execute_result"
    }
   ],
   "source": [
    "sml.model.data()"
   ]
  },
  {
   "cell_type": "code",
   "execution_count": 10,
   "metadata": {},
   "outputs": [
    {
     "data": {
      "text/html": [
       "<div>\n",
       "<style>\n",
       "    .dataframe thead tr:only-child th {\n",
       "        text-align: right;\n",
       "    }\n",
       "\n",
       "    .dataframe thead th {\n",
       "        text-align: left;\n",
       "    }\n",
       "\n",
       "    .dataframe tbody tr th {\n",
       "        vertical-align: top;\n",
       "    }\n",
       "</style>\n",
       "<table border=\"1\" class=\"dataframe\">\n",
       "  <thead>\n",
       "    <tr style=\"text-align: right;\">\n",
       "      <th></th>\n",
       "      <th>Results</th>\n",
       "      <th>Observations</th>\n",
       "    </tr>\n",
       "  </thead>\n",
       "  <tbody>\n",
       "    <tr>\n",
       "      <th>Speedml Release</th>\n",
       "      <td>v0.9.3</td>\n",
       "      <td>Visit https://speedml.com for release notes.</td>\n",
       "    </tr>\n",
       "    <tr>\n",
       "      <th>Shape</th>\n",
       "      <td>train (891, 11) | test (418, 10)</td>\n",
       "      <td></td>\n",
       "    </tr>\n",
       "    <tr>\n",
       "      <th>Numerical High-cardinality</th>\n",
       "      <td>[Age, Age_density, Fare]</td>\n",
       "      <td>(&gt;10) categories. Use feature.density</td>\n",
       "    </tr>\n",
       "    <tr>\n",
       "      <th>Numerical Categorical</th>\n",
       "      <td>[Deck, Embarked, FamilySize, Pclass, Sex, Surv...</td>\n",
       "      <td>Use plot.ordinal.</td>\n",
       "    </tr>\n",
       "    <tr>\n",
       "      <th>Target Analysis (Survived)</th>\n",
       "      <td>Model ready.</td>\n",
       "      <td>Use classification models.</td>\n",
       "    </tr>\n",
       "  </tbody>\n",
       "</table>\n",
       "</div>"
      ],
      "text/plain": [
       "                                                                      Results  \\\n",
       "Speedml Release                                                        v0.9.3   \n",
       "Shape                                        train (891, 11) | test (418, 10)   \n",
       "Numerical High-cardinality                           [Age, Age_density, Fare]   \n",
       "Numerical Categorical       [Deck, Embarked, FamilySize, Pclass, Sex, Surv...   \n",
       "Target Analysis (Survived)                                       Model ready.   \n",
       "\n",
       "                                                            Observations  \n",
       "Speedml Release             Visit https://speedml.com for release notes.  \n",
       "Shape                                                                     \n",
       "Numerical High-cardinality         (>10) categories. Use feature.density  \n",
       "Numerical Categorical                                  Use plot.ordinal.  \n",
       "Target Analysis (Survived)                    Use classification models.  "
      ]
     },
     "execution_count": 10,
     "metadata": {},
     "output_type": "execute_result"
    }
   ],
   "source": [
    "result = sml.eda()\n",
    "result"
   ]
  },
  {
   "cell_type": "code",
   "execution_count": 11,
   "metadata": {},
   "outputs": [
    {
     "data": {
      "text/plain": [
       "['Deck',\n",
       " 'Embarked',\n",
       " 'FamilySize',\n",
       " 'Pclass',\n",
       " 'Sex',\n",
       " 'Survived',\n",
       " 'Ticket_density',\n",
       " 'Title']"
      ]
     },
     "execution_count": 11,
     "metadata": {},
     "output_type": "execute_result"
    }
   ],
   "source": [
    "cat_cols = result['Results'][3]\n",
    "cat_cols"
   ]
  },
  {
   "cell_type": "code",
   "execution_count": 12,
   "metadata": {},
   "outputs": [],
   "source": [
    "cat_cols.remove('Survived')"
   ]
  },
  {
   "cell_type": "code",
   "execution_count": 13,
   "metadata": {
    "collapsed": true
   },
   "outputs": [],
   "source": [
    "train = sml.train\n",
    "test = sml.test\n",
    "train_length = train.shape[0]"
   ]
  },
  {
   "cell_type": "code",
   "execution_count": 14,
   "metadata": {},
   "outputs": [
    {
     "name": "stdout",
     "output_type": "stream",
     "text": [
      "(1309, 11)\n"
     ]
    }
   ],
   "source": [
    "all_df = pd.concat([train, test], axis=0)\n",
    "print(all_df.shape)"
   ]
  },
  {
   "cell_type": "code",
   "execution_count": 15,
   "metadata": {},
   "outputs": [
    {
     "data": {
      "text/html": [
       "<div>\n",
       "<style>\n",
       "    .dataframe thead tr:only-child th {\n",
       "        text-align: right;\n",
       "    }\n",
       "\n",
       "    .dataframe thead th {\n",
       "        text-align: left;\n",
       "    }\n",
       "\n",
       "    .dataframe tbody tr th {\n",
       "        vertical-align: top;\n",
       "    }\n",
       "</style>\n",
       "<table border=\"1\" class=\"dataframe\">\n",
       "  <thead>\n",
       "    <tr style=\"text-align: right;\">\n",
       "      <th></th>\n",
       "      <th>Age</th>\n",
       "      <th>Age_density</th>\n",
       "      <th>Fare</th>\n",
       "      <th>Survived</th>\n",
       "      <th>Deck_0</th>\n",
       "      <th>Deck_1</th>\n",
       "      <th>Deck_2</th>\n",
       "      <th>Deck_3</th>\n",
       "      <th>Deck_4</th>\n",
       "      <th>Deck_5</th>\n",
       "      <th>...</th>\n",
       "      <th>Ticket_density_3</th>\n",
       "      <th>Ticket_density_4</th>\n",
       "      <th>Ticket_density_5</th>\n",
       "      <th>Ticket_density_6</th>\n",
       "      <th>Ticket_density_7</th>\n",
       "      <th>Title_0</th>\n",
       "      <th>Title_1</th>\n",
       "      <th>Title_2</th>\n",
       "      <th>Title_3</th>\n",
       "      <th>Title_4</th>\n",
       "    </tr>\n",
       "  </thead>\n",
       "  <tbody>\n",
       "    <tr>\n",
       "      <th>0</th>\n",
       "      <td>22.0</td>\n",
       "      <td>27</td>\n",
       "      <td>7.2500</td>\n",
       "      <td>0.0</td>\n",
       "      <td>0</td>\n",
       "      <td>0</td>\n",
       "      <td>0</td>\n",
       "      <td>0</td>\n",
       "      <td>0</td>\n",
       "      <td>0</td>\n",
       "      <td>...</td>\n",
       "      <td>0</td>\n",
       "      <td>0</td>\n",
       "      <td>0</td>\n",
       "      <td>0</td>\n",
       "      <td>0</td>\n",
       "      <td>0</td>\n",
       "      <td>0</td>\n",
       "      <td>1</td>\n",
       "      <td>0</td>\n",
       "      <td>0</td>\n",
       "    </tr>\n",
       "    <tr>\n",
       "      <th>1</th>\n",
       "      <td>38.0</td>\n",
       "      <td>11</td>\n",
       "      <td>71.2833</td>\n",
       "      <td>1.0</td>\n",
       "      <td>0</td>\n",
       "      <td>0</td>\n",
       "      <td>1</td>\n",
       "      <td>0</td>\n",
       "      <td>0</td>\n",
       "      <td>0</td>\n",
       "      <td>...</td>\n",
       "      <td>0</td>\n",
       "      <td>0</td>\n",
       "      <td>0</td>\n",
       "      <td>0</td>\n",
       "      <td>0</td>\n",
       "      <td>0</td>\n",
       "      <td>0</td>\n",
       "      <td>0</td>\n",
       "      <td>1</td>\n",
       "      <td>0</td>\n",
       "    </tr>\n",
       "    <tr>\n",
       "      <th>2</th>\n",
       "      <td>26.0</td>\n",
       "      <td>18</td>\n",
       "      <td>7.9250</td>\n",
       "      <td>1.0</td>\n",
       "      <td>0</td>\n",
       "      <td>0</td>\n",
       "      <td>0</td>\n",
       "      <td>0</td>\n",
       "      <td>0</td>\n",
       "      <td>0</td>\n",
       "      <td>...</td>\n",
       "      <td>0</td>\n",
       "      <td>0</td>\n",
       "      <td>0</td>\n",
       "      <td>0</td>\n",
       "      <td>0</td>\n",
       "      <td>0</td>\n",
       "      <td>1</td>\n",
       "      <td>0</td>\n",
       "      <td>0</td>\n",
       "      <td>0</td>\n",
       "    </tr>\n",
       "  </tbody>\n",
       "</table>\n",
       "<p>3 rows × 42 columns</p>\n",
       "</div>"
      ],
      "text/plain": [
       "    Age  Age_density     Fare  Survived  Deck_0  Deck_1  Deck_2  Deck_3  \\\n",
       "0  22.0           27   7.2500       0.0       0       0       0       0   \n",
       "1  38.0           11  71.2833       1.0       0       0       1       0   \n",
       "2  26.0           18   7.9250       1.0       0       0       0       0   \n",
       "\n",
       "   Deck_4  Deck_5   ...     Ticket_density_3  Ticket_density_4  \\\n",
       "0       0       0   ...                    0                 0   \n",
       "1       0       0   ...                    0                 0   \n",
       "2       0       0   ...                    0                 0   \n",
       "\n",
       "   Ticket_density_5  Ticket_density_6  Ticket_density_7  Title_0  Title_1  \\\n",
       "0                 0                 0                 0        0        0   \n",
       "1                 0                 0                 0        0        0   \n",
       "2                 0                 0                 0        0        1   \n",
       "\n",
       "   Title_2  Title_3  Title_4  \n",
       "0        1        0        0  \n",
       "1        0        1        0  \n",
       "2        0        0        0  \n",
       "\n",
       "[3 rows x 42 columns]"
      ]
     },
     "execution_count": 15,
     "metadata": {},
     "output_type": "execute_result"
    }
   ],
   "source": [
    "all_df = pd.get_dummies(all_df, columns=cat_cols)\n",
    "all_df.head(3)"
   ]
  },
  {
   "cell_type": "code",
   "execution_count": 19,
   "metadata": {},
   "outputs": [
    {
     "name": "stderr",
     "output_type": "stream",
     "text": [
      "C:\\Users\\khyeh\\Anaconda3\\lib\\site-packages\\ipykernel\\__main__.py:3: SettingWithCopyWarning: \n",
      "A value is trying to be set on a copy of a slice from a DataFrame\n",
      "\n",
      "See the caveats in the documentation: http://pandas.pydata.org/pandas-docs/stable/indexing.html#indexing-view-versus-copy\n",
      "  app.launch_new_instance()\n"
     ]
    }
   ],
   "source": [
    "train = all_df.iloc[:train_length]\n",
    "test = all_df.iloc[train_length:]\n",
    "test.drop('Survived', inplace=True, axis=1)"
   ]
  },
  {
   "cell_type": "code",
   "execution_count": 20,
   "metadata": {
    "collapsed": true
   },
   "outputs": [],
   "source": [
    "train.to_csv('data\\preprocessed_train.csv', float_format=\"%.6f\", encoding='utf-8', index=False)\n",
    "test.to_csv('data\\preprocessed_test.csv', float_format=\"%.6f\", encoding='utf-8', index=False)"
   ]
  },
  {
   "cell_type": "code",
   "execution_count": 48,
   "metadata": {},
   "outputs": [
    {
     "name": "stdout",
     "output_type": "stream",
     "text": [
      "(891, 42)\n",
      "(418, 41)\n"
     ]
    }
   ],
   "source": [
    "print(train.shape)\n",
    "print(test.shape)"
   ]
  },
  {
   "cell_type": "code",
   "execution_count": 49,
   "metadata": {},
   "outputs": [
    {
     "data": {
      "text/plain": [
       "'train (891, 42) | test (418, 41)'"
      ]
     },
     "execution_count": 49,
     "metadata": {},
     "output_type": "execute_result"
    }
   ],
   "source": [
    "sml_new = Speedml('data/preprocessed_train.csv', \n",
    "              'data/preprocessed_test.csv', \n",
    "              target = 'Survived')\n",
    "sml_new.shape()"
   ]
  },
  {
   "cell_type": "code",
   "execution_count": 50,
   "metadata": {},
   "outputs": [
    {
     "data": {
      "text/html": [
       "<div>\n",
       "<style>\n",
       "    .dataframe thead tr:only-child th {\n",
       "        text-align: right;\n",
       "    }\n",
       "\n",
       "    .dataframe thead th {\n",
       "        text-align: left;\n",
       "    }\n",
       "\n",
       "    .dataframe tbody tr th {\n",
       "        vertical-align: top;\n",
       "    }\n",
       "</style>\n",
       "<table border=\"1\" class=\"dataframe\">\n",
       "  <thead>\n",
       "    <tr style=\"text-align: right;\">\n",
       "      <th></th>\n",
       "      <th>Results</th>\n",
       "      <th>Observations</th>\n",
       "    </tr>\n",
       "  </thead>\n",
       "  <tbody>\n",
       "    <tr>\n",
       "      <th>Speedml Release</th>\n",
       "      <td>v0.9.3</td>\n",
       "      <td>Visit https://speedml.com for release notes.</td>\n",
       "    </tr>\n",
       "    <tr>\n",
       "      <th>Outliers Upper</th>\n",
       "      <td>[Deck_0, Deck_1, Deck_2, Deck_3, Deck_4, Deck_...</td>\n",
       "      <td>Positive skew (&gt; 3). Use feature.outliers(upper).</td>\n",
       "    </tr>\n",
       "    <tr>\n",
       "      <th>Shape</th>\n",
       "      <td>train (891, 42) | test (418, 41)</td>\n",
       "      <td></td>\n",
       "    </tr>\n",
       "    <tr>\n",
       "      <th>Numerical High-cardinality</th>\n",
       "      <td>[Age, Age_density, Fare]</td>\n",
       "      <td>(&gt;10) categories. Use feature.density</td>\n",
       "    </tr>\n",
       "    <tr>\n",
       "      <th>Numerical Categorical</th>\n",
       "      <td>[Survived, Deck_0, Deck_1, Deck_2, Deck_3, Dec...</td>\n",
       "      <td>Use plot.ordinal.</td>\n",
       "    </tr>\n",
       "    <tr>\n",
       "      <th>Target Analysis (Survived)</th>\n",
       "      <td>Model ready.</td>\n",
       "      <td>Use classification models.</td>\n",
       "    </tr>\n",
       "  </tbody>\n",
       "</table>\n",
       "</div>"
      ],
      "text/plain": [
       "                                                                      Results  \\\n",
       "Speedml Release                                                        v0.9.3   \n",
       "Outliers Upper              [Deck_0, Deck_1, Deck_2, Deck_3, Deck_4, Deck_...   \n",
       "Shape                                        train (891, 42) | test (418, 41)   \n",
       "Numerical High-cardinality                           [Age, Age_density, Fare]   \n",
       "Numerical Categorical       [Survived, Deck_0, Deck_1, Deck_2, Deck_3, Dec...   \n",
       "Target Analysis (Survived)                                       Model ready.   \n",
       "\n",
       "                                                                 Observations  \n",
       "Speedml Release                  Visit https://speedml.com for release notes.  \n",
       "Outliers Upper              Positive skew (> 3). Use feature.outliers(upper).  \n",
       "Shape                                                                          \n",
       "Numerical High-cardinality              (>10) categories. Use feature.density  \n",
       "Numerical Categorical                                       Use plot.ordinal.  \n",
       "Target Analysis (Survived)                         Use classification models.  "
      ]
     },
     "execution_count": 50,
     "metadata": {},
     "output_type": "execute_result"
    }
   ],
   "source": [
    "sml_new.eda()"
   ]
  },
  {
   "cell_type": "code",
   "execution_count": 51,
   "metadata": {
    "scrolled": true
   },
   "outputs": [
    {
     "name": "stdout",
     "output_type": "stream",
     "text": [
      "   rank                                   params\n",
      "4     1  {'max_depth': 5, 'min_child_weight': 3}\n",
      "8     2  {'max_depth': 7, 'min_child_weight': 5}\n",
      "5     3  {'max_depth': 5, 'min_child_weight': 5}\n",
      "0     4  {'max_depth': 3, 'min_child_weight': 1}\n",
      "1     4  {'max_depth': 3, 'min_child_weight': 3}\n",
      "7     6  {'max_depth': 7, 'min_child_weight': 3}\n",
      "3     7  {'max_depth': 5, 'min_child_weight': 1}\n",
      "2     8  {'max_depth': 3, 'min_child_weight': 5}\n",
      "6     9  {'max_depth': 7, 'min_child_weight': 1}\n"
     ]
    }
   ],
   "source": [
    "select_params = {'max_depth': [3,5,7], 'min_child_weight': [1,3,5]}\n",
    "fixed_params = {'learning_rate': 0.1, 'subsample': 0.8, \n",
    "                'colsample_bytree': 0.8, 'seed':0, \n",
    "                'objective': 'binary:logistic'}\n",
    "\n",
    "print(sml_new.xgb.hyper(select_params, fixed_params))"
   ]
  },
  {
   "cell_type": "code",
   "execution_count": 52,
   "metadata": {},
   "outputs": [
    {
     "name": "stdout",
     "output_type": "stream",
     "text": [
      "    rank                                     params\n",
      "8      1    {'max_depth': 5, 'min_child_weight': 3}\n",
      "1      2  {'max_depth': 4, 'min_child_weight': 2.5}\n",
      "4      2    {'max_depth': 4, 'min_child_weight': 4}\n",
      "14     4    {'max_depth': 6, 'min_child_weight': 3}\n",
      "13     4  {'max_depth': 6, 'min_child_weight': 2.5}\n",
      "11     6  {'max_depth': 5, 'min_child_weight': 4.5}\n",
      "16     6    {'max_depth': 6, 'min_child_weight': 4}\n",
      "17     6  {'max_depth': 6, 'min_child_weight': 4.5}\n",
      "5      6  {'max_depth': 4, 'min_child_weight': 4.5}\n",
      "10    10    {'max_depth': 5, 'min_child_weight': 4}\n",
      "3     10  {'max_depth': 4, 'min_child_weight': 3.5}\n",
      "2     12    {'max_depth': 4, 'min_child_weight': 3}\n",
      "0     12    {'max_depth': 4, 'min_child_weight': 2}\n",
      "9     14  {'max_depth': 5, 'min_child_weight': 3.5}\n",
      "12    14    {'max_depth': 6, 'min_child_weight': 2}\n",
      "7     14  {'max_depth': 5, 'min_child_weight': 2.5}\n",
      "6     17    {'max_depth': 5, 'min_child_weight': 2}\n",
      "15    18  {'max_depth': 6, 'min_child_weight': 3.5}\n"
     ]
    }
   ],
   "source": [
    "select_params = {'max_depth': [4,5,6], 'min_child_weight': [2, 2.5, 3, 3.5, 4, 4.5]}\n",
    "fixed_params = {'learning_rate': 0.1, 'subsample': 0.8, \n",
    "                'colsample_bytree': 0.8, 'seed':0, \n",
    "                'objective': 'binary:logistic'}\n",
    "\n",
    "print(sml_new.xgb.hyper(select_params, fixed_params))"
   ]
  },
  {
   "cell_type": "code",
   "execution_count": 53,
   "metadata": {},
   "outputs": [
    {
     "name": "stdout",
     "output_type": "stream",
     "text": [
      "   rank                                     params\n",
      "3     1   {'learning_rate': 0.1, 'subsample': 0.7}\n",
      "4     2   {'learning_rate': 0.1, 'subsample': 0.8}\n",
      "5     3   {'learning_rate': 0.1, 'subsample': 0.9}\n",
      "0     4   {'learning_rate': 0.3, 'subsample': 0.7}\n",
      "1     5   {'learning_rate': 0.3, 'subsample': 0.8}\n",
      "2     6   {'learning_rate': 0.3, 'subsample': 0.9}\n",
      "6     7  {'learning_rate': 0.01, 'subsample': 0.7}\n",
      "7     8  {'learning_rate': 0.01, 'subsample': 0.8}\n",
      "8     9  {'learning_rate': 0.01, 'subsample': 0.9}\n"
     ]
    }
   ],
   "source": [
    "select_params = {'learning_rate': [0.3, 0.1, 0.01], 'subsample': [0.7,0.8,0.9]}\n",
    "fixed_params = {'max_depth': 5, 'min_child_weight': 3, \n",
    "                'colsample_bytree': 0.8, 'seed':0, \n",
    "                'objective': 'binary:logistic'}\n",
    "\n",
    "print(sml_new.xgb.hyper(select_params, fixed_params))"
   ]
  },
  {
   "cell_type": "code",
   "execution_count": 54,
   "metadata": {},
   "outputs": [
    {
     "name": "stdout",
     "output_type": "stream",
     "text": [
      "    rank                                     params\n",
      "11     1   {'learning_rate': 0.1, 'subsample': 0.7}\n",
      "10     2   {'learning_rate': 0.1, 'subsample': 0.6}\n",
      "7      3  {'learning_rate': 0.15, 'subsample': 0.7}\n",
      "4      4  {'learning_rate': 0.15, 'subsample': 0.4}\n",
      "15     5  {'learning_rate': 0.05, 'subsample': 0.7}\n",
      "14     6  {'learning_rate': 0.05, 'subsample': 0.6}\n",
      "1      7   {'learning_rate': 0.2, 'subsample': 0.5}\n",
      "9      7   {'learning_rate': 0.1, 'subsample': 0.5}\n",
      "3      9   {'learning_rate': 0.2, 'subsample': 0.7}\n",
      "0     10   {'learning_rate': 0.2, 'subsample': 0.4}\n",
      "5     10  {'learning_rate': 0.15, 'subsample': 0.5}\n",
      "6     10  {'learning_rate': 0.15, 'subsample': 0.6}\n",
      "8     13   {'learning_rate': 0.1, 'subsample': 0.4}\n",
      "13    13  {'learning_rate': 0.05, 'subsample': 0.5}\n",
      "2     15   {'learning_rate': 0.2, 'subsample': 0.6}\n",
      "12    15  {'learning_rate': 0.05, 'subsample': 0.4}\n"
     ]
    }
   ],
   "source": [
    "select_params = {'learning_rate': [0.2, 0.15, 0.1, 0.05], 'subsample': [0.4, 0.5, 0.6, 0.7]}\n",
    "fixed_params = {'max_depth': 5, 'min_child_weight': 3, \n",
    "                'colsample_bytree': 0.8, 'seed':0, \n",
    "                'objective': 'binary:logistic'}\n",
    "\n",
    "print(sml_new.xgb.hyper(select_params, fixed_params))"
   ]
  },
  {
   "cell_type": "code",
   "execution_count": 55,
   "metadata": {},
   "outputs": [
    {
     "name": "stdout",
     "output_type": "stream",
     "text": [
      "    rank                                            params\n",
      "18     1   {'colsample_bytree': 0.8, 'learning_rate': 0.1}\n",
      "5      1  {'colsample_bytree': 0.5, 'learning_rate': 0.15}\n",
      "1      3  {'colsample_bytree': 0.4, 'learning_rate': 0.15}\n",
      "10     4   {'colsample_bytree': 0.6, 'learning_rate': 0.1}\n",
      "2      4   {'colsample_bytree': 0.4, 'learning_rate': 0.1}\n",
      "17     4  {'colsample_bytree': 0.8, 'learning_rate': 0.15}\n",
      "6      7   {'colsample_bytree': 0.5, 'learning_rate': 0.1}\n",
      "14     8   {'colsample_bytree': 0.7, 'learning_rate': 0.1}\n",
      "13     8  {'colsample_bytree': 0.7, 'learning_rate': 0.15}\n",
      "12     8   {'colsample_bytree': 0.7, 'learning_rate': 0.2}\n",
      "0      8   {'colsample_bytree': 0.4, 'learning_rate': 0.2}\n",
      "19     8  {'colsample_bytree': 0.8, 'learning_rate': 0.05}\n",
      "22    13   {'colsample_bytree': 0.9, 'learning_rate': 0.1}\n",
      "9     13  {'colsample_bytree': 0.6, 'learning_rate': 0.15}\n",
      "21    13  {'colsample_bytree': 0.9, 'learning_rate': 0.15}\n",
      "8     16   {'colsample_bytree': 0.6, 'learning_rate': 0.2}\n",
      "7     16  {'colsample_bytree': 0.5, 'learning_rate': 0.05}\n",
      "15    16  {'colsample_bytree': 0.7, 'learning_rate': 0.05}\n",
      "3     19  {'colsample_bytree': 0.4, 'learning_rate': 0.05}\n",
      "16    20   {'colsample_bytree': 0.8, 'learning_rate': 0.2}\n",
      "4     20   {'colsample_bytree': 0.5, 'learning_rate': 0.2}\n",
      "11    22  {'colsample_bytree': 0.6, 'learning_rate': 0.05}\n",
      "23    22  {'colsample_bytree': 0.9, 'learning_rate': 0.05}\n",
      "20    24   {'colsample_bytree': 0.9, 'learning_rate': 0.2}\n"
     ]
    }
   ],
   "source": [
    "select_params = {'learning_rate': [0.2, 0.15, 0.1, 0.05], 'colsample_bytree': [0.4, 0.5, 0.6, 0.7, 0.8, 0.9]}\n",
    "fixed_params = {'max_depth': 5, 'min_child_weight': 3, \n",
    "                'subsample': 0.7, 'seed':0, \n",
    "                'objective': 'binary:logistic'}\n",
    "\n",
    "print(sml_new.xgb.hyper(select_params, fixed_params))"
   ]
  },
  {
   "cell_type": "code",
   "execution_count": 56,
   "metadata": {
    "scrolled": true
   },
   "outputs": [
    {
     "name": "stdout",
     "output_type": "stream",
     "text": [
      "    test-error-mean  test-error-std  train-error-mean  train-error-std\n",
      "0          0.208989        0.030023          0.174438         0.008257\n",
      "1          0.207865        0.028866          0.168820         0.003128\n",
      "2          0.210112        0.016891          0.169663         0.005784\n",
      "3          0.203371        0.012512          0.162921         0.007325\n",
      "4          0.194382        0.016127          0.156742         0.008024\n",
      "5          0.194382        0.014477          0.152528         0.010682\n",
      "6          0.203371        0.014389          0.152247         0.010458\n",
      "7          0.200000        0.013103          0.150842         0.009714\n",
      "8          0.195505        0.005504          0.150000         0.007815\n",
      "9          0.195505        0.008989          0.144663         0.008238\n",
      "10         0.194382        0.009795          0.146910         0.008776\n",
      "11         0.193258        0.010420          0.145225         0.008909\n",
      "12         0.191011        0.018463          0.145225         0.006800\n",
      "13         0.192135        0.019910          0.140168         0.008585\n",
      "14         0.185393        0.015890          0.139887         0.008170\n",
      "15         0.184269        0.017907          0.138483         0.009550\n",
      "16         0.184269        0.020535          0.135393         0.010495\n",
      "17         0.180899        0.018256          0.134550         0.009907\n",
      "18         0.184269        0.017907          0.134551         0.010600\n",
      "19         0.183146        0.016127          0.133708         0.010104\n",
      "20         0.178651        0.016437          0.131461         0.007028\n",
      "21         0.179775        0.014650          0.128652         0.005447\n",
      "22         0.176404        0.018325          0.128652         0.006800\n",
      "23         0.178651        0.010894          0.128371         0.006683\n",
      "24         0.176404        0.012612          0.126404         0.005825\n",
      "25         0.178651        0.019266          0.125281         0.007073\n",
      "26         0.180899        0.017907          0.125281         0.007815\n",
      "27         0.176404        0.016513          0.122753         0.006564\n",
      "28         0.178651        0.013944          0.123315         0.007183\n",
      "29         0.177528        0.016127          0.122191         0.006706\n",
      "..              ...             ...               ...              ...\n",
      "31         0.173033        0.010894          0.120225         0.004914\n",
      "32         0.177528        0.011568          0.119101         0.004297\n",
      "33         0.173033        0.013944          0.120225         0.005072\n",
      "34         0.174157        0.015890          0.121348         0.005225\n",
      "35         0.175281        0.013944          0.119663         0.004816\n",
      "36         0.174157        0.013295          0.119382         0.006938\n",
      "37         0.176404        0.013577          0.117978         0.005476\n",
      "38         0.173033        0.015241          0.117978         0.006090\n",
      "39         0.176404        0.015730          0.118820         0.006319\n",
      "40         0.174157        0.015075          0.117697         0.005576\n",
      "41         0.173033        0.015241          0.117416         0.005932\n",
      "42         0.174157        0.015890          0.116573         0.005476\n",
      "43         0.170786        0.015324          0.117135         0.005729\n",
      "44         0.173033        0.016437          0.115450         0.006243\n",
      "45         0.174157        0.013761          0.115731         0.005519\n",
      "46         0.175281        0.013944          0.114888         0.005504\n",
      "47         0.177528        0.015324          0.114326         0.005660\n",
      "48         0.176404        0.015324          0.113483         0.004977\n",
      "49         0.176404        0.015324          0.111798         0.005300\n",
      "50         0.175281        0.015241          0.111798         0.005590\n",
      "51         0.173033        0.015241          0.110393         0.005932\n",
      "52         0.171910        0.015324          0.110674         0.007610\n",
      "53         0.171910        0.018325          0.110113         0.005519\n",
      "54         0.171910        0.019002          0.107584         0.005660\n",
      "55         0.174157        0.019134          0.108708         0.004667\n",
      "56         0.171910        0.017978          0.109270         0.005784\n",
      "57         0.170786        0.017261          0.109551         0.004441\n",
      "58         0.171910        0.017978          0.109551         0.005757\n",
      "59         0.173033        0.018256          0.108708         0.005374\n",
      "60         0.169663        0.017907          0.109270         0.006243\n",
      "\n",
      "[61 rows x 4 columns]\n",
      "                   Classifier  Accuracy\n",
      "0               XGBClassifier  0.838889\n",
      "0  GradientBoostingClassifier  0.832222\n",
      "0          AdaBoostClassifier  0.821111\n",
      "0      RandomForestClassifier  0.814444\n",
      "0      DecisionTreeClassifier  0.796667\n",
      "0          LogisticRegression  0.786667\n",
      "0                  GaussianNB  0.777778\n",
      "0                         SVC  0.714444\n",
      "0        KNeighborsClassifier  0.703333\n",
      "Accuracy: 78.730000%\n",
      "Thresh=0.000, n=41, Accuracy: 78.73%\n",
      "Thresh=0.000, n=41, Accuracy: 78.73%\n",
      "Thresh=0.000, n=41, Accuracy: 78.73%\n",
      "Thresh=0.000, n=41, Accuracy: 78.73%\n",
      "Thresh=0.000, n=41, Accuracy: 78.73%\n",
      "Thresh=0.000, n=41, Accuracy: 78.73%\n",
      "Thresh=0.000, n=41, Accuracy: 78.73%\n",
      "Thresh=0.000, n=41, Accuracy: 78.73%\n",
      "Thresh=0.000, n=41, Accuracy: 78.73%\n",
      "Thresh=0.000, n=41, Accuracy: 78.73%\n",
      "Thresh=0.000, n=41, Accuracy: 78.73%\n",
      "Thresh=0.000, n=41, Accuracy: 78.73%\n",
      "Thresh=0.000, n=41, Accuracy: 78.73%\n",
      "Thresh=0.000, n=41, Accuracy: 78.73%\n",
      "Thresh=0.002, n=27, Accuracy: 78.73%\n",
      "Thresh=0.002, n=27, Accuracy: 78.73%\n",
      "Thresh=0.003, n=25, Accuracy: 78.73%\n",
      "Thresh=0.003, n=25, Accuracy: 78.73%\n",
      "Thresh=0.003, n=25, Accuracy: 78.73%\n",
      "Thresh=0.005, n=22, Accuracy: 79.10%\n",
      "Thresh=0.005, n=22, Accuracy: 79.10%\n",
      "Thresh=0.007, n=20, Accuracy: 78.73%\n",
      "Thresh=0.007, n=20, Accuracy: 78.73%\n",
      "Thresh=0.007, n=20, Accuracy: 78.73%\n",
      "Thresh=0.007, n=20, Accuracy: 78.73%\n",
      "Thresh=0.010, n=16, Accuracy: 79.10%\n",
      "Thresh=0.010, n=16, Accuracy: 79.10%\n",
      "Thresh=0.010, n=16, Accuracy: 79.10%\n",
      "Thresh=0.012, n=13, Accuracy: 78.36%\n",
      "Thresh=0.017, n=12, Accuracy: 77.99%\n",
      "Thresh=0.022, n=11, Accuracy: 77.99%\n",
      "Thresh=0.022, n=11, Accuracy: 77.99%\n",
      "Thresh=0.024, n=9, Accuracy: 79.10%\n",
      "Thresh=0.026, n=8, Accuracy: 79.10%\n",
      "Thresh=0.027, n=7, Accuracy: 78.36%\n",
      "Thresh=0.038, n=6, Accuracy: 77.24%\n",
      "Thresh=0.062, n=5, Accuracy: 77.99%\n",
      "Thresh=0.075, n=4, Accuracy: 70.52%\n",
      "Thresh=0.101, n=3, Accuracy: 68.66%\n",
      "Thresh=0.178, n=2, Accuracy: 68.66%\n",
      "Thresh=0.312, n=1, Accuracy: 71.64%\n"
     ]
    },
    {
     "data": {
      "text/plain": [
       "'Accuracy = 89.67%. Found 799 correct of 891 total labels'"
      ]
     },
     "execution_count": 56,
     "metadata": {},
     "output_type": "execute_result"
    },
    {
     "data": {
      "text/plain": [
       "'Results saved.'"
      ]
     },
     "execution_count": 56,
     "metadata": {},
     "output_type": "execute_result"
    },
    {
     "data": {
      "image/png": "[encoded data removed]",
      "text/plain": [
       "<matplotlib.figure.Figure at 0xe990080>"
      ]
     },
     "metadata": {},
     "output_type": "display_data"
    }
   ],
   "source": [
    "tuned_params = {'learning_rate': 0.1, 'subsample': 0.7, \n",
    "                'max_depth': 5, 'min_child_weight': 3,\n",
    "                'seed':0, 'colsample_bytree': 0.8, \n",
    "                'objective': 'binary:logistic'}\n",
    "sml_new.xgb.cv(tuned_params)\n",
    "print(sml_new.xgb.cv_results)\n",
    "tuned_params['n_estimators'] = sml_new.xgb.cv_results.shape[0] - 1\n",
    "sml_new.xgb.params(tuned_params)\n",
    "sml_new.xgb.classifier()\n",
    "# Model evaluation across multiple classifiers based on accuracy of predictions.\n",
    "sml_new.model.evaluate()\n",
    "\n",
    "# Plot ranking among accuracy offered by various models based on our datasets.\n",
    "sml_new.plot.model_ranks()\n",
    "print(sml_new.model.ranks())\n",
    "sml_new.xgb.fit()\n",
    "sml_new.xgb.predict()\n",
    "#sml.plot.xgb_importance()\n",
    "sml_new.xgb.feature_selection()\n",
    "sml_new.xgb.sample_accuracy()\n",
    "sml_new.save_results(\n",
    "    columns={ 'PassengerId': sml.uid,\n",
    "             'Survived': sml_new.xgb.predictions }, \n",
    "    file_path='xg_submission.csv')"
   ]
  }
 ],
 "metadata": {
  "kernelspec": {
   "display_name": "Python [conda root]",
   "language": "python",
   "name": "conda-root-py"
  },
  "language_info": {
   "codemirror_mode": {
    "name": "ipython",
    "version": 3
   },
   "file_extension": ".py",
   "mimetype": "text/x-python",
   "name": "python",
   "nbconvert_exporter": "python",
   "pygments_lexer": "ipython3",
   "version": "3.6.2"
  }
 },
 "nbformat": 4,
 "nbformat_minor": 2
}
